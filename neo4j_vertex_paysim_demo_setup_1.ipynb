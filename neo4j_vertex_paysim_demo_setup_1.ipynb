{
  "nbformat": 4,
  "nbformat_minor": 0,
  "metadata": {
    "colab": {
      "provenance": [],
      "collapsed_sections": [],
      "authorship_tag": "ABX9TyP8gNJFrnXWFHV9Pa17/KZr",
      "include_colab_link": true
    },
    "kernelspec": {
      "name": "python3",
      "display_name": "Python 3"
    },
    "language_info": {
      "name": "python"
    }
  },
  "cells": [
    {
      "cell_type": "markdown",
      "metadata": {
        "id": "view-in-github",
        "colab_type": "text"
      },
      "source": [
        "<a href=\"https://colab.research.google.com/github/leerazo/neo4j_demos/blob/main/neo4j_vertex_paysim_demo_setup_1.ipynb\" target=\"_parent\"><img src=\"https://colab.research.google.com/assets/colab-badge.svg\" alt=\"Open In Colab\"/></a>"
      ]
    },
    {
      "cell_type": "code",
      "execution_count": 26,
      "metadata": {
        "id": "KdL8Lncyamdg"
      },
      "outputs": [],
      "source": [
        "!pip install --quiet --upgrade graphdatascience==1.0.0"
      ]
    },
    {
      "cell_type": "code",
      "source": [
        "!pip install --quiet google-cloud-storage"
      ],
      "metadata": {
        "id": "w5yTHXcN2i-G"
      },
      "execution_count": 27,
      "outputs": []
    },
    {
      "cell_type": "code",
      "source": [
        "!pip install --quiet google.cloud.aiplatform"
      ],
      "metadata": {
        "id": "HKz-qaEA2HBt"
      },
      "execution_count": 28,
      "outputs": []
    },
    {
      "cell_type": "code",
      "source": [
        "!pip install python-dotenv"
      ],
      "metadata": {
        "colab": {
          "base_uri": "https://localhost:8080/"
        },
        "id": "0y3z2MzRbO7B",
        "outputId": "6323be31-88d0-422e-ba67-7e1c376c93a4"
      },
      "execution_count": 29,
      "outputs": [
        {
          "output_type": "stream",
          "name": "stdout",
          "text": [
            "Looking in indexes: https://pypi.org/simple, https://us-python.pkg.dev/colab-wheels/public/simple/\n",
            "Requirement already satisfied: python-dotenv in /usr/local/lib/python3.7/dist-packages (0.21.0)\n"
          ]
        }
      ]
    },
    {
      "cell_type": "code",
      "source": [
        "import IPython\n",
        "\n",
        "app = IPython.Application.instance()\n",
        "app.kernel.do_shutdown(True)"
      ],
      "metadata": {
        "colab": {
          "base_uri": "https://localhost:8080/"
        },
        "id": "N04rjyGb2rK7",
        "outputId": "8183cfe0-fa02-4f42-828d-3ed0762573b0"
      },
      "execution_count": 30,
      "outputs": [
        {
          "output_type": "execute_result",
          "data": {
            "text/plain": [
              "{'status': 'ok', 'restart': True}"
            ]
          },
          "metadata": {},
          "execution_count": 30
        }
      ]
    },
    {
      "cell_type": "code",
      "source": [
        "import pandas as pd\n",
        "from graphdatascience import GraphDataScience"
      ],
      "metadata": {
        "id": "EXGfeC02aooB"
      },
      "execution_count": 1,
      "outputs": []
    },
    {
      "cell_type": "code",
      "source": [
        "from dotenv import load_dotenv\n",
        "import os"
      ],
      "metadata": {
        "id": "t2OAVBp1awBd"
      },
      "execution_count": 2,
      "outputs": []
    },
    {
      "cell_type": "code",
      "source": [
        "dotenv_file = \"/content/20220914-vertex-demos-credentials-8cdacd95.env\"\n",
        "load_dotenv(dotenv_file)\n",
        "\n",
        "DB_URL = os.getenv(\"NEO4J_URI\")\n",
        "DB_USER = os.getenv(\"NEO4J_USERNAME\")\n",
        "DB_PASS = os.getenv(\"NEO4J_PASSWORD\")\n",
        "DB_INSTANCE = os.getenv(\"AURA_INSTANCENAME\")\n",
        "DB_NAME = \"neo4j\"\n",
        "\n",
        "#DB_URL = \"neo4j+s://8cdacd95.databases.neo4j.io\"\n",
        "#DB_USER = \"neo4j\"\n",
        "#DB_PASS = \"gcVz3ay2wJ-8AnmClLK8eEZxUBuquKaWJggRknAyeC0\"\n",
        "\n",
        "print(\"DB_URL:\", DB_URL)\n",
        "print(\"DB_USER:\", DB_USER)\n",
        "print(\"DB_PASS:\", DB_PASS)\n",
        "print(\"DB_NAME:\", DB_NAME)"
      ],
      "metadata": {
        "colab": {
          "base_uri": "https://localhost:8080/"
        },
        "id": "xlpwtbdgbLvn",
        "outputId": "ad8e724e-f22b-4da9-e536-ffb57cab9011"
      },
      "execution_count": 3,
      "outputs": [
        {
          "output_type": "stream",
          "name": "stdout",
          "text": [
            "DB_URL: neo4j+s://8cdacd95.databases.neo4j.io\n",
            "DB_USER: neo4j\n",
            "DB_PASS: gcVz3ay2wJ-8AnmClLK8eEZxUBuquKaWJggRknAyeC0\n",
            "DB_NAME: neo4j\n"
          ]
        }
      ]
    },
    {
      "cell_type": "code",
      "source": [
        "# If you are connecting the client to an AuraDS instance, you can get the recommended non-default configuration settings of the Python Driver applied automatically. To achieve this, set the constructor argument aura_ds=True\n",
        "gds = GraphDataScience(DB_URL, auth=(DB_USER, DB_PASS), aura_ds=True)"
      ],
      "metadata": {
        "id": "ByKytjFZc3kb"
      },
      "execution_count": 4,
      "outputs": []
    },
    {
      "cell_type": "code",
      "source": [
        "gds.set_database(DB_NAME)"
      ],
      "metadata": {
        "id": "bcyW9eFrfHM4"
      },
      "execution_count": 5,
      "outputs": []
    },
    {
      "cell_type": "code",
      "source": [
        "graph_name = \"client_graph\"\n",
        "\n",
        "projection_list = gds.graph.list()\n",
        "if len(projection_list) > 0:\n",
        "  if graph_name in projection_list[\"graphName\"][0]:\n",
        "    print(\"Projection \\\"\" + graph_name + \"\\\" already exists\")\n",
        "    display(projection_list)\n",
        "else:\n",
        "  print('Creating graph projection.')\n",
        "  G, results = gds.graph.project.cypher(\n",
        "    \"client_graph\",\n",
        "    \"MATCH (c:Client) RETURN id(c) as id, c.num_transactions as num_transactions, c.total_transaction_amnt as total_transaction_amnt, c.is_fraudster as is_fraudster\",\n",
        "    'MATCH (c:Client)-[:PERFORMED]->(t:Transaction)-[:TO]->(c2:Client) return id(c) as source, id(c2) as target, sum(t.amount) as amount, \"TRANSACTED_WITH\" as type ',\n",
        ")\n",
        "\n",
        "display(results)"
      ],
      "metadata": {
        "colab": {
          "base_uri": "https://localhost:8080/",
          "height": 160
        },
        "id": "ZWO_FpJTfLKS",
        "outputId": "ae31d0b0-44f6-4f6c-9946-0430701bdbd4"
      },
      "execution_count": 6,
      "outputs": [
        {
          "output_type": "stream",
          "name": "stdout",
          "text": [
            "Creating graph projection.\n"
          ]
        },
        {
          "output_type": "display_data",
          "data": {
            "text/plain": [
              "nodeQuery            MATCH (c:Client) RETURN id(c) as id, c.num_tra...\n",
              "relationshipQuery    MATCH (c:Client)-[:PERFORMED]->(t:Transaction)...\n",
              "graphName                                                 client_graph\n",
              "nodeCount                                                        11270\n",
              "relationshipCount                                                26035\n",
              "projectMillis                                                      398\n",
              "Name: 0, dtype: object"
            ]
          },
          "metadata": {}
        }
      ]
    },
    {
      "cell_type": "code",
      "source": [
        "print(\"Generating embeddings using FastRP\")\n",
        "results = gds.fastRP.mutate(\n",
        "    G,\n",
        "    relationshipWeightProperty=\"amount\",\n",
        "    iterationWeights=[0.0, 1.00, 1.00, 0.80, 0.60],\n",
        "    featureProperties=[\"num_transactions\", \"total_transaction_amnt\"],\n",
        "    propertyRatio=0.25,\n",
        "    nodeSelfInfluence=0.15,\n",
        "    embeddingDimension=16,\n",
        "    randomSeed=1,\n",
        "    mutateProperty=\"embedding\",\n",
        ")\n",
        "\n",
        "display(results)"
      ],
      "metadata": {
        "colab": {
          "base_uri": "https://localhost:8080/",
          "height": 160
        },
        "id": "fUFZ0fVzfOqn",
        "outputId": "2e53cf67-1938-4ebb-d042-9b3bf5a7d5f0"
      },
      "execution_count": 7,
      "outputs": [
        {
          "output_type": "stream",
          "name": "stdout",
          "text": [
            "Generating embeddings using FastRP\n"
          ]
        },
        {
          "output_type": "display_data",
          "data": {
            "text/plain": [
              "nodePropertiesWritten                                                11270\n",
              "mutateMillis                                                             0\n",
              "nodeCount                                                            11270\n",
              "preProcessingMillis                                                      0\n",
              "computeMillis                                                           14\n",
              "configuration            {'nodeSelfInfluence': 0.15, 'relationshipWeigh...\n",
              "Name: 0, dtype: object"
            ]
          },
          "metadata": {}
        }
      ]
    },
    {
      "cell_type": "code",
      "source": [
        "# Dump it out into a dataframe\n",
        "node_properties = gds.graph.streamNodeProperties(\n",
        "    G, [\"embedding\", \"num_transactions\", \"total_transaction_amnt\", \"is_fraudster\"]\n",
        ")\n",
        "\n",
        "node_properties.head()  "
      ],
      "metadata": {
        "colab": {
          "base_uri": "https://localhost:8080/",
          "height": 206
        },
        "id": "yDQ3pu9Gko2t",
        "outputId": "8c33214f-3bd3-4bbf-c640-849e437d06bd"
      },
      "execution_count": 8,
      "outputs": [
        {
          "output_type": "execute_result",
          "data": {
            "text/plain": [
              "   nodeId            nodeProperty  \\\n",
              "0       0               embedding   \n",
              "1       0        num_transactions   \n",
              "2       0  total_transaction_amnt   \n",
              "3       0            is_fraudster   \n",
              "4       3               embedding   \n",
              "\n",
              "                                       propertyValue  \n",
              "0  [0.0, -3.641206660631724e-07, 0.0, 0.0, -3.641...  \n",
              "1                                                  4  \n",
              "2                                      118919.119986  \n",
              "3                                                  1  \n",
              "4  [0.0, 0.0, 0.0, -0.07500000298023224, 0.0, 0.0...  "
            ],
            "text/html": [
              "\n",
              "  <div id=\"df-094b0458-d6bb-41ed-9dda-d417fa1d0d31\">\n",
              "    <div class=\"colab-df-container\">\n",
              "      <div>\n",
              "<style scoped>\n",
              "    .dataframe tbody tr th:only-of-type {\n",
              "        vertical-align: middle;\n",
              "    }\n",
              "\n",
              "    .dataframe tbody tr th {\n",
              "        vertical-align: top;\n",
              "    }\n",
              "\n",
              "    .dataframe thead th {\n",
              "        text-align: right;\n",
              "    }\n",
              "</style>\n",
              "<table border=\"1\" class=\"dataframe\">\n",
              "  <thead>\n",
              "    <tr style=\"text-align: right;\">\n",
              "      <th></th>\n",
              "      <th>nodeId</th>\n",
              "      <th>nodeProperty</th>\n",
              "      <th>propertyValue</th>\n",
              "    </tr>\n",
              "  </thead>\n",
              "  <tbody>\n",
              "    <tr>\n",
              "      <th>0</th>\n",
              "      <td>0</td>\n",
              "      <td>embedding</td>\n",
              "      <td>[0.0, -3.641206660631724e-07, 0.0, 0.0, -3.641...</td>\n",
              "    </tr>\n",
              "    <tr>\n",
              "      <th>1</th>\n",
              "      <td>0</td>\n",
              "      <td>num_transactions</td>\n",
              "      <td>4</td>\n",
              "    </tr>\n",
              "    <tr>\n",
              "      <th>2</th>\n",
              "      <td>0</td>\n",
              "      <td>total_transaction_amnt</td>\n",
              "      <td>118919.119986</td>\n",
              "    </tr>\n",
              "    <tr>\n",
              "      <th>3</th>\n",
              "      <td>0</td>\n",
              "      <td>is_fraudster</td>\n",
              "      <td>1</td>\n",
              "    </tr>\n",
              "    <tr>\n",
              "      <th>4</th>\n",
              "      <td>3</td>\n",
              "      <td>embedding</td>\n",
              "      <td>[0.0, 0.0, 0.0, -0.07500000298023224, 0.0, 0.0...</td>\n",
              "    </tr>\n",
              "  </tbody>\n",
              "</table>\n",
              "</div>\n",
              "      <button class=\"colab-df-convert\" onclick=\"convertToInteractive('df-094b0458-d6bb-41ed-9dda-d417fa1d0d31')\"\n",
              "              title=\"Convert this dataframe to an interactive table.\"\n",
              "              style=\"display:none;\">\n",
              "        \n",
              "  <svg xmlns=\"http://www.w3.org/2000/svg\" height=\"24px\"viewBox=\"0 0 24 24\"\n",
              "       width=\"24px\">\n",
              "    <path d=\"M0 0h24v24H0V0z\" fill=\"none\"/>\n",
              "    <path d=\"M18.56 5.44l.94 2.06.94-2.06 2.06-.94-2.06-.94-.94-2.06-.94 2.06-2.06.94zm-11 1L8.5 8.5l.94-2.06 2.06-.94-2.06-.94L8.5 2.5l-.94 2.06-2.06.94zm10 10l.94 2.06.94-2.06 2.06-.94-2.06-.94-.94-2.06-.94 2.06-2.06.94z\"/><path d=\"M17.41 7.96l-1.37-1.37c-.4-.4-.92-.59-1.43-.59-.52 0-1.04.2-1.43.59L10.3 9.45l-7.72 7.72c-.78.78-.78 2.05 0 2.83L4 21.41c.39.39.9.59 1.41.59.51 0 1.02-.2 1.41-.59l7.78-7.78 2.81-2.81c.8-.78.8-2.07 0-2.86zM5.41 20L4 18.59l7.72-7.72 1.47 1.35L5.41 20z\"/>\n",
              "  </svg>\n",
              "      </button>\n",
              "      \n",
              "  <style>\n",
              "    .colab-df-container {\n",
              "      display:flex;\n",
              "      flex-wrap:wrap;\n",
              "      gap: 12px;\n",
              "    }\n",
              "\n",
              "    .colab-df-convert {\n",
              "      background-color: #E8F0FE;\n",
              "      border: none;\n",
              "      border-radius: 50%;\n",
              "      cursor: pointer;\n",
              "      display: none;\n",
              "      fill: #1967D2;\n",
              "      height: 32px;\n",
              "      padding: 0 0 0 0;\n",
              "      width: 32px;\n",
              "    }\n",
              "\n",
              "    .colab-df-convert:hover {\n",
              "      background-color: #E2EBFA;\n",
              "      box-shadow: 0px 1px 2px rgba(60, 64, 67, 0.3), 0px 1px 3px 1px rgba(60, 64, 67, 0.15);\n",
              "      fill: #174EA6;\n",
              "    }\n",
              "\n",
              "    [theme=dark] .colab-df-convert {\n",
              "      background-color: #3B4455;\n",
              "      fill: #D2E3FC;\n",
              "    }\n",
              "\n",
              "    [theme=dark] .colab-df-convert:hover {\n",
              "      background-color: #434B5C;\n",
              "      box-shadow: 0px 1px 3px 1px rgba(0, 0, 0, 0.15);\n",
              "      filter: drop-shadow(0px 1px 2px rgba(0, 0, 0, 0.3));\n",
              "      fill: #FFFFFF;\n",
              "    }\n",
              "  </style>\n",
              "\n",
              "      <script>\n",
              "        const buttonEl =\n",
              "          document.querySelector('#df-094b0458-d6bb-41ed-9dda-d417fa1d0d31 button.colab-df-convert');\n",
              "        buttonEl.style.display =\n",
              "          google.colab.kernel.accessAllowed ? 'block' : 'none';\n",
              "\n",
              "        async function convertToInteractive(key) {\n",
              "          const element = document.querySelector('#df-094b0458-d6bb-41ed-9dda-d417fa1d0d31');\n",
              "          const dataTable =\n",
              "            await google.colab.kernel.invokeFunction('convertToInteractive',\n",
              "                                                     [key], {});\n",
              "          if (!dataTable) return;\n",
              "\n",
              "          const docLinkHtml = 'Like what you see? Visit the ' +\n",
              "            '<a target=\"_blank\" href=https://colab.research.google.com/notebooks/data_table.ipynb>data table notebook</a>'\n",
              "            + ' to learn more about interactive tables.';\n",
              "          element.innerHTML = '';\n",
              "          dataTable['output_type'] = 'display_data';\n",
              "          await google.colab.output.renderOutput(dataTable, element);\n",
              "          const docLink = document.createElement('div');\n",
              "          docLink.innerHTML = docLinkHtml;\n",
              "          element.appendChild(docLink);\n",
              "        }\n",
              "      </script>\n",
              "    </div>\n",
              "  </div>\n",
              "  "
            ]
          },
          "metadata": {},
          "execution_count": 8
        }
      ]
    },
    {
      "cell_type": "code",
      "source": [
        "# Pivot the dataframe to better represent our classification problem\n",
        "x = node_properties.pivot(\n",
        "    index=\"nodeId\", columns=\"nodeProperty\", values=\"propertyValue\"\n",
        ")\n",
        "x = x.reset_index()\n",
        "x.columns.name = None\n",
        "x.head()"
      ],
      "metadata": {
        "colab": {
          "base_uri": "https://localhost:8080/",
          "height": 206
        },
        "id": "J9Vc-9GWnxYo",
        "outputId": "5147f8e3-0b42-4047-d932-cafa506985b4"
      },
      "execution_count": 9,
      "outputs": [
        {
          "output_type": "execute_result",
          "data": {
            "text/plain": [
              "   nodeId                                          embedding  \\\n",
              "0       0  [0.0, -3.641206660631724e-07, 0.0, 0.0, -3.641...   \n",
              "1       3  [0.0, 0.0, 0.0, -0.07500000298023224, 0.0, 0.0...   \n",
              "2       5  [-4.998395475297457e-09, 5.79870196304455e-09,...   \n",
              "3       8  [0.0, 0.0, 0.0, 0.06708204001188278, 0.0, 0.06...   \n",
              "4      10  [0.02352503128349781, -0.023524967953562737, 2...   \n",
              "\n",
              "           is_fraudster num_transactions total_transaction_amnt  \n",
              "0                     1                4          118919.119986  \n",
              "1  -9223372036854775808                0                    0.0  \n",
              "2                     1               80         7484459.618642  \n",
              "3  -9223372036854775808                0                    0.0  \n",
              "4                     1              227        37580636.156865  "
            ],
            "text/html": [
              "\n",
              "  <div id=\"df-495bfc90-7290-4139-b771-8afe92c79377\">\n",
              "    <div class=\"colab-df-container\">\n",
              "      <div>\n",
              "<style scoped>\n",
              "    .dataframe tbody tr th:only-of-type {\n",
              "        vertical-align: middle;\n",
              "    }\n",
              "\n",
              "    .dataframe tbody tr th {\n",
              "        vertical-align: top;\n",
              "    }\n",
              "\n",
              "    .dataframe thead th {\n",
              "        text-align: right;\n",
              "    }\n",
              "</style>\n",
              "<table border=\"1\" class=\"dataframe\">\n",
              "  <thead>\n",
              "    <tr style=\"text-align: right;\">\n",
              "      <th></th>\n",
              "      <th>nodeId</th>\n",
              "      <th>embedding</th>\n",
              "      <th>is_fraudster</th>\n",
              "      <th>num_transactions</th>\n",
              "      <th>total_transaction_amnt</th>\n",
              "    </tr>\n",
              "  </thead>\n",
              "  <tbody>\n",
              "    <tr>\n",
              "      <th>0</th>\n",
              "      <td>0</td>\n",
              "      <td>[0.0, -3.641206660631724e-07, 0.0, 0.0, -3.641...</td>\n",
              "      <td>1</td>\n",
              "      <td>4</td>\n",
              "      <td>118919.119986</td>\n",
              "    </tr>\n",
              "    <tr>\n",
              "      <th>1</th>\n",
              "      <td>3</td>\n",
              "      <td>[0.0, 0.0, 0.0, -0.07500000298023224, 0.0, 0.0...</td>\n",
              "      <td>-9223372036854775808</td>\n",
              "      <td>0</td>\n",
              "      <td>0.0</td>\n",
              "    </tr>\n",
              "    <tr>\n",
              "      <th>2</th>\n",
              "      <td>5</td>\n",
              "      <td>[-4.998395475297457e-09, 5.79870196304455e-09,...</td>\n",
              "      <td>1</td>\n",
              "      <td>80</td>\n",
              "      <td>7484459.618642</td>\n",
              "    </tr>\n",
              "    <tr>\n",
              "      <th>3</th>\n",
              "      <td>8</td>\n",
              "      <td>[0.0, 0.0, 0.0, 0.06708204001188278, 0.0, 0.06...</td>\n",
              "      <td>-9223372036854775808</td>\n",
              "      <td>0</td>\n",
              "      <td>0.0</td>\n",
              "    </tr>\n",
              "    <tr>\n",
              "      <th>4</th>\n",
              "      <td>10</td>\n",
              "      <td>[0.02352503128349781, -0.023524967953562737, 2...</td>\n",
              "      <td>1</td>\n",
              "      <td>227</td>\n",
              "      <td>37580636.156865</td>\n",
              "    </tr>\n",
              "  </tbody>\n",
              "</table>\n",
              "</div>\n",
              "      <button class=\"colab-df-convert\" onclick=\"convertToInteractive('df-495bfc90-7290-4139-b771-8afe92c79377')\"\n",
              "              title=\"Convert this dataframe to an interactive table.\"\n",
              "              style=\"display:none;\">\n",
              "        \n",
              "  <svg xmlns=\"http://www.w3.org/2000/svg\" height=\"24px\"viewBox=\"0 0 24 24\"\n",
              "       width=\"24px\">\n",
              "    <path d=\"M0 0h24v24H0V0z\" fill=\"none\"/>\n",
              "    <path d=\"M18.56 5.44l.94 2.06.94-2.06 2.06-.94-2.06-.94-.94-2.06-.94 2.06-2.06.94zm-11 1L8.5 8.5l.94-2.06 2.06-.94-2.06-.94L8.5 2.5l-.94 2.06-2.06.94zm10 10l.94 2.06.94-2.06 2.06-.94-2.06-.94-.94-2.06-.94 2.06-2.06.94z\"/><path d=\"M17.41 7.96l-1.37-1.37c-.4-.4-.92-.59-1.43-.59-.52 0-1.04.2-1.43.59L10.3 9.45l-7.72 7.72c-.78.78-.78 2.05 0 2.83L4 21.41c.39.39.9.59 1.41.59.51 0 1.02-.2 1.41-.59l7.78-7.78 2.81-2.81c.8-.78.8-2.07 0-2.86zM5.41 20L4 18.59l7.72-7.72 1.47 1.35L5.41 20z\"/>\n",
              "  </svg>\n",
              "      </button>\n",
              "      \n",
              "  <style>\n",
              "    .colab-df-container {\n",
              "      display:flex;\n",
              "      flex-wrap:wrap;\n",
              "      gap: 12px;\n",
              "    }\n",
              "\n",
              "    .colab-df-convert {\n",
              "      background-color: #E8F0FE;\n",
              "      border: none;\n",
              "      border-radius: 50%;\n",
              "      cursor: pointer;\n",
              "      display: none;\n",
              "      fill: #1967D2;\n",
              "      height: 32px;\n",
              "      padding: 0 0 0 0;\n",
              "      width: 32px;\n",
              "    }\n",
              "\n",
              "    .colab-df-convert:hover {\n",
              "      background-color: #E2EBFA;\n",
              "      box-shadow: 0px 1px 2px rgba(60, 64, 67, 0.3), 0px 1px 3px 1px rgba(60, 64, 67, 0.15);\n",
              "      fill: #174EA6;\n",
              "    }\n",
              "\n",
              "    [theme=dark] .colab-df-convert {\n",
              "      background-color: #3B4455;\n",
              "      fill: #D2E3FC;\n",
              "    }\n",
              "\n",
              "    [theme=dark] .colab-df-convert:hover {\n",
              "      background-color: #434B5C;\n",
              "      box-shadow: 0px 1px 3px 1px rgba(0, 0, 0, 0.15);\n",
              "      filter: drop-shadow(0px 1px 2px rgba(0, 0, 0, 0.3));\n",
              "      fill: #FFFFFF;\n",
              "    }\n",
              "  </style>\n",
              "\n",
              "      <script>\n",
              "        const buttonEl =\n",
              "          document.querySelector('#df-495bfc90-7290-4139-b771-8afe92c79377 button.colab-df-convert');\n",
              "        buttonEl.style.display =\n",
              "          google.colab.kernel.accessAllowed ? 'block' : 'none';\n",
              "\n",
              "        async function convertToInteractive(key) {\n",
              "          const element = document.querySelector('#df-495bfc90-7290-4139-b771-8afe92c79377');\n",
              "          const dataTable =\n",
              "            await google.colab.kernel.invokeFunction('convertToInteractive',\n",
              "                                                     [key], {});\n",
              "          if (!dataTable) return;\n",
              "\n",
              "          const docLinkHtml = 'Like what you see? Visit the ' +\n",
              "            '<a target=\"_blank\" href=https://colab.research.google.com/notebooks/data_table.ipynb>data table notebook</a>'\n",
              "            + ' to learn more about interactive tables.';\n",
              "          element.innerHTML = '';\n",
              "          dataTable['output_type'] = 'display_data';\n",
              "          await google.colab.output.renderOutput(dataTable, element);\n",
              "          const docLink = document.createElement('div');\n",
              "          docLink.innerHTML = docLinkHtml;\n",
              "          element.appendChild(docLink);\n",
              "        }\n",
              "      </script>\n",
              "    </div>\n",
              "  </div>\n",
              "  "
            ]
          },
          "metadata": {},
          "execution_count": 9
        }
      ]
    },
    {
      "cell_type": "code",
      "source": [
        "# is_fraudster will have a value of 0 or 1 if populated. \n",
        "# If the value is -9223372036854775808 then it's unlabeled, so we're going to drop it.\n",
        "x = x.loc[x[\"is_fraudster\"] != -9223372036854775808]\n",
        "x.head()"
      ],
      "metadata": {
        "colab": {
          "base_uri": "https://localhost:8080/",
          "height": 206
        },
        "id": "fnLUaNk-n3Jb",
        "outputId": "77435edd-2514-4ccf-8180-68be0dac0290"
      },
      "execution_count": 10,
      "outputs": [
        {
          "output_type": "execute_result",
          "data": {
            "text/plain": [
              "   nodeId                                          embedding is_fraudster  \\\n",
              "0       0  [0.0, -3.641206660631724e-07, 0.0, 0.0, -3.641...            1   \n",
              "2       5  [-4.998395475297457e-09, 5.79870196304455e-09,...            1   \n",
              "4      10  [0.02352503128349781, -0.023524967953562737, 2...            1   \n",
              "6      15  [-0.005754098296165466, -4.570129021885805e-05...            0   \n",
              "7      18  [0.0, 0.0, -0.06708204001188278, 0.0, 0.0, -0....            0   \n",
              "\n",
              "  num_transactions total_transaction_amnt  \n",
              "0                4          118919.119986  \n",
              "2               80         7484459.618642  \n",
              "4              227        37580636.156865  \n",
              "6              106         4864282.016093  \n",
              "7                0                    0.0  "
            ],
            "text/html": [
              "\n",
              "  <div id=\"df-d93219e1-049a-43ec-8517-ad4b354027bb\">\n",
              "    <div class=\"colab-df-container\">\n",
              "      <div>\n",
              "<style scoped>\n",
              "    .dataframe tbody tr th:only-of-type {\n",
              "        vertical-align: middle;\n",
              "    }\n",
              "\n",
              "    .dataframe tbody tr th {\n",
              "        vertical-align: top;\n",
              "    }\n",
              "\n",
              "    .dataframe thead th {\n",
              "        text-align: right;\n",
              "    }\n",
              "</style>\n",
              "<table border=\"1\" class=\"dataframe\">\n",
              "  <thead>\n",
              "    <tr style=\"text-align: right;\">\n",
              "      <th></th>\n",
              "      <th>nodeId</th>\n",
              "      <th>embedding</th>\n",
              "      <th>is_fraudster</th>\n",
              "      <th>num_transactions</th>\n",
              "      <th>total_transaction_amnt</th>\n",
              "    </tr>\n",
              "  </thead>\n",
              "  <tbody>\n",
              "    <tr>\n",
              "      <th>0</th>\n",
              "      <td>0</td>\n",
              "      <td>[0.0, -3.641206660631724e-07, 0.0, 0.0, -3.641...</td>\n",
              "      <td>1</td>\n",
              "      <td>4</td>\n",
              "      <td>118919.119986</td>\n",
              "    </tr>\n",
              "    <tr>\n",
              "      <th>2</th>\n",
              "      <td>5</td>\n",
              "      <td>[-4.998395475297457e-09, 5.79870196304455e-09,...</td>\n",
              "      <td>1</td>\n",
              "      <td>80</td>\n",
              "      <td>7484459.618642</td>\n",
              "    </tr>\n",
              "    <tr>\n",
              "      <th>4</th>\n",
              "      <td>10</td>\n",
              "      <td>[0.02352503128349781, -0.023524967953562737, 2...</td>\n",
              "      <td>1</td>\n",
              "      <td>227</td>\n",
              "      <td>37580636.156865</td>\n",
              "    </tr>\n",
              "    <tr>\n",
              "      <th>6</th>\n",
              "      <td>15</td>\n",
              "      <td>[-0.005754098296165466, -4.570129021885805e-05...</td>\n",
              "      <td>0</td>\n",
              "      <td>106</td>\n",
              "      <td>4864282.016093</td>\n",
              "    </tr>\n",
              "    <tr>\n",
              "      <th>7</th>\n",
              "      <td>18</td>\n",
              "      <td>[0.0, 0.0, -0.06708204001188278, 0.0, 0.0, -0....</td>\n",
              "      <td>0</td>\n",
              "      <td>0</td>\n",
              "      <td>0.0</td>\n",
              "    </tr>\n",
              "  </tbody>\n",
              "</table>\n",
              "</div>\n",
              "      <button class=\"colab-df-convert\" onclick=\"convertToInteractive('df-d93219e1-049a-43ec-8517-ad4b354027bb')\"\n",
              "              title=\"Convert this dataframe to an interactive table.\"\n",
              "              style=\"display:none;\">\n",
              "        \n",
              "  <svg xmlns=\"http://www.w3.org/2000/svg\" height=\"24px\"viewBox=\"0 0 24 24\"\n",
              "       width=\"24px\">\n",
              "    <path d=\"M0 0h24v24H0V0z\" fill=\"none\"/>\n",
              "    <path d=\"M18.56 5.44l.94 2.06.94-2.06 2.06-.94-2.06-.94-.94-2.06-.94 2.06-2.06.94zm-11 1L8.5 8.5l.94-2.06 2.06-.94-2.06-.94L8.5 2.5l-.94 2.06-2.06.94zm10 10l.94 2.06.94-2.06 2.06-.94-2.06-.94-.94-2.06-.94 2.06-2.06.94z\"/><path d=\"M17.41 7.96l-1.37-1.37c-.4-.4-.92-.59-1.43-.59-.52 0-1.04.2-1.43.59L10.3 9.45l-7.72 7.72c-.78.78-.78 2.05 0 2.83L4 21.41c.39.39.9.59 1.41.59.51 0 1.02-.2 1.41-.59l7.78-7.78 2.81-2.81c.8-.78.8-2.07 0-2.86zM5.41 20L4 18.59l7.72-7.72 1.47 1.35L5.41 20z\"/>\n",
              "  </svg>\n",
              "      </button>\n",
              "      \n",
              "  <style>\n",
              "    .colab-df-container {\n",
              "      display:flex;\n",
              "      flex-wrap:wrap;\n",
              "      gap: 12px;\n",
              "    }\n",
              "\n",
              "    .colab-df-convert {\n",
              "      background-color: #E8F0FE;\n",
              "      border: none;\n",
              "      border-radius: 50%;\n",
              "      cursor: pointer;\n",
              "      display: none;\n",
              "      fill: #1967D2;\n",
              "      height: 32px;\n",
              "      padding: 0 0 0 0;\n",
              "      width: 32px;\n",
              "    }\n",
              "\n",
              "    .colab-df-convert:hover {\n",
              "      background-color: #E2EBFA;\n",
              "      box-shadow: 0px 1px 2px rgba(60, 64, 67, 0.3), 0px 1px 3px 1px rgba(60, 64, 67, 0.15);\n",
              "      fill: #174EA6;\n",
              "    }\n",
              "\n",
              "    [theme=dark] .colab-df-convert {\n",
              "      background-color: #3B4455;\n",
              "      fill: #D2E3FC;\n",
              "    }\n",
              "\n",
              "    [theme=dark] .colab-df-convert:hover {\n",
              "      background-color: #434B5C;\n",
              "      box-shadow: 0px 1px 3px 1px rgba(0, 0, 0, 0.15);\n",
              "      filter: drop-shadow(0px 1px 2px rgba(0, 0, 0, 0.3));\n",
              "      fill: #FFFFFF;\n",
              "    }\n",
              "  </style>\n",
              "\n",
              "      <script>\n",
              "        const buttonEl =\n",
              "          document.querySelector('#df-d93219e1-049a-43ec-8517-ad4b354027bb button.colab-df-convert');\n",
              "        buttonEl.style.display =\n",
              "          google.colab.kernel.accessAllowed ? 'block' : 'none';\n",
              "\n",
              "        async function convertToInteractive(key) {\n",
              "          const element = document.querySelector('#df-d93219e1-049a-43ec-8517-ad4b354027bb');\n",
              "          const dataTable =\n",
              "            await google.colab.kernel.invokeFunction('convertToInteractive',\n",
              "                                                     [key], {});\n",
              "          if (!dataTable) return;\n",
              "\n",
              "          const docLinkHtml = 'Like what you see? Visit the ' +\n",
              "            '<a target=\"_blank\" href=https://colab.research.google.com/notebooks/data_table.ipynb>data table notebook</a>'\n",
              "            + ' to learn more about interactive tables.';\n",
              "          element.innerHTML = '';\n",
              "          dataTable['output_type'] = 'display_data';\n",
              "          await google.colab.output.renderOutput(dataTable, element);\n",
              "          const docLink = document.createElement('div');\n",
              "          docLink.innerHTML = docLinkHtml;\n",
              "          element.appendChild(docLink);\n",
              "        }\n",
              "      </script>\n",
              "    </div>\n",
              "  </div>\n",
              "  "
            ]
          },
          "metadata": {},
          "execution_count": 10
        }
      ]
    },
    {
      "cell_type": "code",
      "source": [
        "# NOTE TO SELF: THIS IS ACTUALLY A REALLY IMPORTANT CELL TO DIG DEEPER\n",
        "# Note that the embedding row is an array. To make this dataset more consumable, we should flatten that out into multiple individual features: embedding_0, embedding_1, ... embedding_n.\n",
        "FEATURES_FILENAME = \"features.csv\"\n",
        "\n",
        "embeddings = pd.DataFrame(x[\"embedding\"].values.tolist()).add_prefix(\"embedding_\")\n",
        "merged = x.drop(columns=[\"embedding\"]).merge(\n",
        "    embeddings, left_index=True, right_index=True\n",
        ")\n",
        "features_df = merged.drop(\n",
        "    columns=[\"is_fraudster\", \"num_transactions\", \"total_transaction_amnt\"]\n",
        ")\n",
        "train_df = merged.drop(columns=[\"nodeId\"])\n",
        "\n",
        "features_df.to_csv(FEATURES_FILENAME, index=False)"
      ],
      "metadata": {
        "id": "Ldv8yUkHoKXY"
      },
      "execution_count": 11,
      "outputs": []
    },
    {
      "cell_type": "code",
      "source": [
        "TRAINING_FILENAME = \"train.csv\"\n",
        "\n",
        "pd.concat([train_df for i in range(10)]).to_csv(TRAINING_FILENAME, index=False)\n"
      ],
      "metadata": {
        "id": "P7qNqQueo-ux"
      },
      "execution_count": 12,
      "outputs": []
    },
    {
      "cell_type": "code",
      "source": [
        "# GCP related variables!\n",
        "PROJECT_ID = \"neo4jbusinessdev\"\n",
        "STORAGE_BUCKET = \"leerazo-vertex-demo\"\n",
        "\n",
        "# You can leave these defaults\n",
        "REGION = \"us-central1\"\n",
        "STORAGE_PATH = \"paysim\"\n",
        "EMBEDDING_DIMENSION = 16\n",
        "FEATURESTORE_ID = \"paysim-baked-earlier\"\n",
        "ENTITY_NAME = \"payer\" "
      ],
      "metadata": {
        "id": "IP1ZAoBCqVna"
      },
      "execution_count": 13,
      "outputs": []
    },
    {
      "cell_type": "code",
      "source": [
        "os.environ[\"GCLOUD_PROJECT\"] = PROJECT_ID\n",
        "print(\"Setting GCP project to:\", os.environ[\"GCLOUD_PROJECT\"])"
      ],
      "metadata": {
        "colab": {
          "base_uri": "https://localhost:8080/"
        },
        "id": "ttGluLl_vg9l",
        "outputId": "87761a8a-0658-44bf-e5ec-4140a228c813"
      },
      "execution_count": 14,
      "outputs": [
        {
          "output_type": "stream",
          "name": "stdout",
          "text": [
            "Setting GCP project to: neo4jbusinessdev\n"
          ]
        }
      ]
    },
    {
      "cell_type": "code",
      "source": [
        "# Authenticate to GCP\n",
        "try:\n",
        "    from google.colab import auth as google_auth\n",
        "\n",
        "    google_auth.authenticate_user()\n",
        "except:\n",
        "    pass"
      ],
      "metadata": {
        "id": "_YuuJG32vtFn"
      },
      "execution_count": 15,
      "outputs": []
    },
    {
      "cell_type": "code",
      "source": [
        "from google.cloud import storage\n",
        "\n",
        "client = storage.Client()"
      ],
      "metadata": {
        "id": "Dv111nBxw3Wm"
      },
      "execution_count": 16,
      "outputs": []
    },
    {
      "cell_type": "code",
      "source": [
        "bucket_list = []\n",
        "for bucket in client.list_buckets():\n",
        "  bucket_list.append(bucket.name)\n",
        "\n",
        "if STORAGE_BUCKET in bucket_list:\n",
        "  print('Bucket', STORAGE_BUCKET, 'already exists.')\n",
        "else:\n",
        "  print('Creating new storage bucket:', STORAGE_BUCKET)\n",
        "  try: \n",
        "    client.create_bucket(STORAGE_BUCKET)\n",
        "  except Exception as excpt:\n",
        "    print(excpt)\n"
      ],
      "metadata": {
        "colab": {
          "base_uri": "https://localhost:8080/"
        },
        "id": "vnV85rVtw3MT",
        "outputId": "7bb23669-e6d5-4254-99f2-fef752494610"
      },
      "execution_count": 17,
      "outputs": [
        {
          "output_type": "stream",
          "name": "stdout",
          "text": [
            "Bucket leerazo-vertex-demo already exists.\n"
          ]
        }
      ]
    },
    {
      "cell_type": "code",
      "source": [
        "# Upload our files to that bucket\n",
        "demo_bucket = client.bucket(STORAGE_BUCKET)\n",
        "print(\"FEATURES_FILENAME:\", FEATURES_FILENAME)\n",
        "print(\"TRAINING_FILENAME:\", TRAINING_FILENAME)\n",
        "print(\"STORAGE_PATH:\", STORAGE_PATH)\n",
        "print(\"demo_bucket:\", demo_bucket)\n",
        "for filename in [FEATURES_FILENAME, TRAINING_FILENAME]:\n",
        "    upload_path = os.path.join(STORAGE_PATH, filename)\n",
        "    blob = demo_bucket.blob(upload_path)\n",
        "    blob.upload_from_filename(filename)"
      ],
      "metadata": {
        "colab": {
          "base_uri": "https://localhost:8080/"
        },
        "id": "s8E18hNP0QJU",
        "outputId": "fad45a64-2547-4019-8439-c49e16693ca2"
      },
      "execution_count": 18,
      "outputs": [
        {
          "output_type": "stream",
          "name": "stdout",
          "text": [
            "FEATURES_FILENAME: features.csv\n",
            "TRAINING_FILENAME: train.csv\n",
            "STORAGE_PATH: paysim\n",
            "demo_bucket: <Bucket: leerazo-vertex-demo>\n"
          ]
        }
      ]
    },
    {
      "cell_type": "code",
      "source": [
        "from google.cloud import aiplatform\n",
        "\n",
        "aiplatform.init(project=PROJECT_ID, location=REGION)\n",
        "\n",
        "dataset = aiplatform.TabularDataset.create(\n",
        "    display_name=\"paysim-baked-earlier\",\n",
        "    gcs_source=os.path.join(\"gs://\", STORAGE_BUCKET, STORAGE_PATH, TRAINING_FILENAME),\n",
        ")\n",
        "dataset.wait()\n",
        "\n",
        "print(f'\\tDataset: \"{dataset.display_name}\"')\n",
        "print(f'\\tname: \"{dataset.resource_name}\"')"
      ],
      "metadata": {
        "colab": {
          "base_uri": "https://localhost:8080/"
        },
        "id": "fWYiHXoV15eg",
        "outputId": "65cb1422-c85d-4370-89db-23e85c79351f"
      },
      "execution_count": 19,
      "outputs": [
        {
          "output_type": "stream",
          "name": "stdout",
          "text": [
            "Creating TabularDataset\n"
          ]
        },
        {
          "output_type": "stream",
          "name": "stderr",
          "text": [
            "INFO:google.cloud.aiplatform.datasets.dataset:Creating TabularDataset\n"
          ]
        },
        {
          "output_type": "stream",
          "name": "stdout",
          "text": [
            "Create TabularDataset backing LRO: projects/803648085855/locations/us-central1/datasets/9216583652064886784/operations/2296796571137736704\n"
          ]
        },
        {
          "output_type": "stream",
          "name": "stderr",
          "text": [
            "INFO:google.cloud.aiplatform.datasets.dataset:Create TabularDataset backing LRO: projects/803648085855/locations/us-central1/datasets/9216583652064886784/operations/2296796571137736704\n"
          ]
        },
        {
          "output_type": "stream",
          "name": "stdout",
          "text": [
            "TabularDataset created. Resource name: projects/803648085855/locations/us-central1/datasets/9216583652064886784\n"
          ]
        },
        {
          "output_type": "stream",
          "name": "stderr",
          "text": [
            "INFO:google.cloud.aiplatform.datasets.dataset:TabularDataset created. Resource name: projects/803648085855/locations/us-central1/datasets/9216583652064886784\n"
          ]
        },
        {
          "output_type": "stream",
          "name": "stdout",
          "text": [
            "To use this TabularDataset in another session:\n"
          ]
        },
        {
          "output_type": "stream",
          "name": "stderr",
          "text": [
            "INFO:google.cloud.aiplatform.datasets.dataset:To use this TabularDataset in another session:\n"
          ]
        },
        {
          "output_type": "stream",
          "name": "stdout",
          "text": [
            "ds = aiplatform.TabularDataset('projects/803648085855/locations/us-central1/datasets/9216583652064886784')\n"
          ]
        },
        {
          "output_type": "stream",
          "name": "stderr",
          "text": [
            "INFO:google.cloud.aiplatform.datasets.dataset:ds = aiplatform.TabularDataset('projects/803648085855/locations/us-central1/datasets/9216583652064886784')\n"
          ]
        },
        {
          "output_type": "stream",
          "name": "stdout",
          "text": [
            "\tDataset: \"paysim-baked-earlier\"\n",
            "\tname: \"projects/803648085855/locations/us-central1/datasets/9216583652064886784\"\n"
          ]
        }
      ]
    },
    {
      "cell_type": "code",
      "source": [
        "embedding_column_names = [\"embedding_{}\".format(i) for i in range(EMBEDDING_DIMENSION)]\n",
        "other_column_names = [\"num_transactions\", \"total_transaction_amnt\"]\n",
        "all_columns = other_column_names + embedding_column_names\n",
        "column_specs = {column: \"numeric\" for column in all_columns}\n",
        "\n",
        "job = aiplatform.AutoMLTabularTrainingJob(\n",
        "    display_name=\"train-paysim-automl-1-baked-earlier\",\n",
        "    optimization_prediction_type=\"classification\",\n",
        "    column_specs=column_specs,\n",
        ")"
      ],
      "metadata": {
        "id": "r-a32xSr3s8b"
      },
      "execution_count": 20,
      "outputs": []
    },
    {
      "cell_type": "code",
      "source": [
        "model_display_name = \"paysim-prediction-model-baked-earlier\"\n",
        "\n",
        "model = job.run(\n",
        "    dataset=dataset,\n",
        "    target_column=\"is_fraudster\",\n",
        "    training_fraction_split=0.8,\n",
        "    validation_fraction_split=0.1,\n",
        "    test_fraction_split=0.1,\n",
        "    model_display_name=model_display_name,\n",
        "    disable_early_stopping=False,\n",
        "    budget_milli_node_hours=1000,\n",
        ")"
      ],
      "metadata": {
        "colab": {
          "base_uri": "https://localhost:8080/"
        },
        "id": "zBUQkrsm4QJ9",
        "outputId": "ceba6d0a-311e-4623-cd7d-c0513aef0fa2"
      },
      "execution_count": null,
      "outputs": [
        {
          "output_type": "stream",
          "name": "stdout",
          "text": [
            "View Training:\n",
            "https://console.cloud.google.com/ai/platform/locations/us-central1/training/1991170752803504128?project=803648085855\n"
          ]
        },
        {
          "output_type": "stream",
          "name": "stderr",
          "text": [
            "INFO:google.cloud.aiplatform.training_jobs:View Training:\n",
            "https://console.cloud.google.com/ai/platform/locations/us-central1/training/1991170752803504128?project=803648085855\n"
          ]
        },
        {
          "output_type": "stream",
          "name": "stdout",
          "text": [
            "AutoMLTabularTrainingJob projects/803648085855/locations/us-central1/trainingPipelines/1991170752803504128 current state:\n",
            "PipelineState.PIPELINE_STATE_RUNNING\n"
          ]
        },
        {
          "output_type": "stream",
          "name": "stderr",
          "text": [
            "INFO:google.cloud.aiplatform.training_jobs:AutoMLTabularTrainingJob projects/803648085855/locations/us-central1/trainingPipelines/1991170752803504128 current state:\n",
            "PipelineState.PIPELINE_STATE_RUNNING\n"
          ]
        },
        {
          "output_type": "stream",
          "name": "stdout",
          "text": [
            "AutoMLTabularTrainingJob projects/803648085855/locations/us-central1/trainingPipelines/1991170752803504128 current state:\n",
            "PipelineState.PIPELINE_STATE_RUNNING\n"
          ]
        },
        {
          "output_type": "stream",
          "name": "stderr",
          "text": [
            "INFO:google.cloud.aiplatform.training_jobs:AutoMLTabularTrainingJob projects/803648085855/locations/us-central1/trainingPipelines/1991170752803504128 current state:\n",
            "PipelineState.PIPELINE_STATE_RUNNING\n"
          ]
        },
        {
          "output_type": "stream",
          "name": "stdout",
          "text": [
            "AutoMLTabularTrainingJob projects/803648085855/locations/us-central1/trainingPipelines/1991170752803504128 current state:\n",
            "PipelineState.PIPELINE_STATE_RUNNING\n"
          ]
        },
        {
          "output_type": "stream",
          "name": "stderr",
          "text": [
            "INFO:google.cloud.aiplatform.training_jobs:AutoMLTabularTrainingJob projects/803648085855/locations/us-central1/trainingPipelines/1991170752803504128 current state:\n",
            "PipelineState.PIPELINE_STATE_RUNNING\n"
          ]
        },
        {
          "output_type": "stream",
          "name": "stdout",
          "text": [
            "AutoMLTabularTrainingJob projects/803648085855/locations/us-central1/trainingPipelines/1991170752803504128 current state:\n",
            "PipelineState.PIPELINE_STATE_RUNNING\n"
          ]
        },
        {
          "output_type": "stream",
          "name": "stderr",
          "text": [
            "INFO:google.cloud.aiplatform.training_jobs:AutoMLTabularTrainingJob projects/803648085855/locations/us-central1/trainingPipelines/1991170752803504128 current state:\n",
            "PipelineState.PIPELINE_STATE_RUNNING\n"
          ]
        },
        {
          "output_type": "stream",
          "name": "stdout",
          "text": [
            "AutoMLTabularTrainingJob projects/803648085855/locations/us-central1/trainingPipelines/1991170752803504128 current state:\n",
            "PipelineState.PIPELINE_STATE_RUNNING\n"
          ]
        },
        {
          "output_type": "stream",
          "name": "stderr",
          "text": [
            "INFO:google.cloud.aiplatform.training_jobs:AutoMLTabularTrainingJob projects/803648085855/locations/us-central1/trainingPipelines/1991170752803504128 current state:\n",
            "PipelineState.PIPELINE_STATE_RUNNING\n"
          ]
        },
        {
          "output_type": "stream",
          "name": "stdout",
          "text": [
            "AutoMLTabularTrainingJob projects/803648085855/locations/us-central1/trainingPipelines/1991170752803504128 current state:\n",
            "PipelineState.PIPELINE_STATE_RUNNING\n"
          ]
        },
        {
          "output_type": "stream",
          "name": "stderr",
          "text": [
            "INFO:google.cloud.aiplatform.training_jobs:AutoMLTabularTrainingJob projects/803648085855/locations/us-central1/trainingPipelines/1991170752803504128 current state:\n",
            "PipelineState.PIPELINE_STATE_RUNNING\n"
          ]
        },
        {
          "output_type": "stream",
          "name": "stdout",
          "text": [
            "AutoMLTabularTrainingJob projects/803648085855/locations/us-central1/trainingPipelines/1991170752803504128 current state:\n",
            "PipelineState.PIPELINE_STATE_RUNNING\n"
          ]
        },
        {
          "output_type": "stream",
          "name": "stderr",
          "text": [
            "INFO:google.cloud.aiplatform.training_jobs:AutoMLTabularTrainingJob projects/803648085855/locations/us-central1/trainingPipelines/1991170752803504128 current state:\n",
            "PipelineState.PIPELINE_STATE_RUNNING\n"
          ]
        },
        {
          "output_type": "stream",
          "name": "stdout",
          "text": [
            "AutoMLTabularTrainingJob projects/803648085855/locations/us-central1/trainingPipelines/1991170752803504128 current state:\n",
            "PipelineState.PIPELINE_STATE_RUNNING\n"
          ]
        },
        {
          "output_type": "stream",
          "name": "stderr",
          "text": [
            "INFO:google.cloud.aiplatform.training_jobs:AutoMLTabularTrainingJob projects/803648085855/locations/us-central1/trainingPipelines/1991170752803504128 current state:\n",
            "PipelineState.PIPELINE_STATE_RUNNING\n"
          ]
        },
        {
          "output_type": "stream",
          "name": "stdout",
          "text": [
            "AutoMLTabularTrainingJob projects/803648085855/locations/us-central1/trainingPipelines/1991170752803504128 current state:\n",
            "PipelineState.PIPELINE_STATE_RUNNING\n"
          ]
        },
        {
          "output_type": "stream",
          "name": "stderr",
          "text": [
            "INFO:google.cloud.aiplatform.training_jobs:AutoMLTabularTrainingJob projects/803648085855/locations/us-central1/trainingPipelines/1991170752803504128 current state:\n",
            "PipelineState.PIPELINE_STATE_RUNNING\n"
          ]
        },
        {
          "output_type": "stream",
          "name": "stdout",
          "text": [
            "AutoMLTabularTrainingJob projects/803648085855/locations/us-central1/trainingPipelines/1991170752803504128 current state:\n",
            "PipelineState.PIPELINE_STATE_RUNNING\n"
          ]
        },
        {
          "output_type": "stream",
          "name": "stderr",
          "text": [
            "INFO:google.cloud.aiplatform.training_jobs:AutoMLTabularTrainingJob projects/803648085855/locations/us-central1/trainingPipelines/1991170752803504128 current state:\n",
            "PipelineState.PIPELINE_STATE_RUNNING\n"
          ]
        },
        {
          "output_type": "stream",
          "name": "stdout",
          "text": [
            "AutoMLTabularTrainingJob projects/803648085855/locations/us-central1/trainingPipelines/1991170752803504128 current state:\n",
            "PipelineState.PIPELINE_STATE_RUNNING\n"
          ]
        },
        {
          "output_type": "stream",
          "name": "stderr",
          "text": [
            "INFO:google.cloud.aiplatform.training_jobs:AutoMLTabularTrainingJob projects/803648085855/locations/us-central1/trainingPipelines/1991170752803504128 current state:\n",
            "PipelineState.PIPELINE_STATE_RUNNING\n"
          ]
        }
      ]
    },
    {
      "cell_type": "code",
      "source": [
        "# TEMPORARY\n",
        "from google.cloud import aiplatform\n",
        "\n",
        "# GCP related variables!\n",
        "PROJECT_ID = \"neo4jbusinessdev\"\n",
        "STORAGE_BUCKET = \"leerazo-vertex-demo\"\n",
        "\n",
        "# You can leave these defaults\n",
        "REGION = \"us-central1\"\n",
        "STORAGE_PATH = \"paysim\"\n",
        "EMBEDDING_DIMENSION = 16\n",
        "FEATURESTORE_ID = \"paysim-baked-earlier\"\n",
        "ENTITY_NAME = \"payer\" \n",
        "\n",
        "#model_display_name = \"paysim-prediction-model-baked-earlier\"\n",
        "model_display_name = \"paysim-prediction-model\"\n",
        "\n",
        "os.environ[\"GCLOUD_PROJECT\"] = PROJECT_ID\n",
        "print(\"Setting GCP project to:\", os.environ[\"GCLOUD_PROJECT\"])\n",
        "\n",
        "# Authenticate to GCP\n",
        "try:\n",
        "    from google.colab import auth as google_auth\n",
        "\n",
        "    google_auth.authenticate_user()\n",
        "except:\n",
        "    pass\n",
        "\n",
        "aiplatform.init(project=PROJECT_ID, location=REGION)\n",
        "\n",
        "model = aiplatform.Model('/projects/my-project/locations/us-central1/models/' + model_display_name)\n",
        "print(model)"
      ],
      "metadata": {
        "colab": {
          "base_uri": "https://localhost:8080/",
          "height": 204
        },
        "id": "FftVtBVW5EI8",
        "outputId": "8c567673-1f9d-4acb-8023-a8f2c61d0efa"
      },
      "execution_count": null,
      "outputs": [
        {
          "output_type": "error",
          "ename": "NameError",
          "evalue": "ignored",
          "traceback": [
            "\u001b[0;31m---------------------------------------------------------------------------\u001b[0m",
            "\u001b[0;31mNameError\u001b[0m                                 Traceback (most recent call last)",
            "\u001b[0;32m<ipython-input-24-019d53e30af2>\u001b[0m in \u001b[0;36m<module>\u001b[0;34m\u001b[0m\n\u001b[1;32m      1\u001b[0m \u001b[0;31m# TEMPORARY\u001b[0m\u001b[0;34m\u001b[0m\u001b[0;34m\u001b[0m\u001b[0;34m\u001b[0m\u001b[0m\n\u001b[0;32m----> 2\u001b[0;31m \u001b[0mmodel\u001b[0m \u001b[0;34m=\u001b[0m \u001b[0maiplatform\u001b[0m\u001b[0;34m.\u001b[0m\u001b[0mModel\u001b[0m\u001b[0;34m(\u001b[0m\u001b[0;34m'/projects/my-project/locations/us-central1/models/'\u001b[0m \u001b[0;34m+\u001b[0m \u001b[0mmodel_display_name\u001b[0m\u001b[0;34m)\u001b[0m\u001b[0;34m\u001b[0m\u001b[0;34m\u001b[0m\u001b[0m\n\u001b[0m\u001b[1;32m      3\u001b[0m \u001b[0mprint\u001b[0m\u001b[0;34m(\u001b[0m\u001b[0mmodel\u001b[0m\u001b[0;34m)\u001b[0m\u001b[0;34m\u001b[0m\u001b[0;34m\u001b[0m\u001b[0m\n",
            "\u001b[0;31mNameError\u001b[0m: name 'model_display_name' is not defined"
          ]
        }
      ]
    }
  ]
}